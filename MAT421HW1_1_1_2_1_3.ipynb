{
  "nbformat": 4,
  "nbformat_minor": 0,
  "metadata": {
    "colab": {
      "provenance": [],
      "authorship_tag": "ABX9TyMEUgd4s6FqIQqY1OtHlFA0",
      "include_colab_link": true
    },
    "kernelspec": {
      "name": "python3",
      "display_name": "Python 3"
    },
    "language_info": {
      "name": "python"
    }
  },
  "cells": [
    {
      "cell_type": "markdown",
      "metadata": {
        "id": "view-in-github",
        "colab_type": "text"
      },
      "source": [
        "<a href=\"https://colab.research.google.com/github/PBLEAVITT/MAT-421/blob/main/MAT421HW1_1_1_2_1_3.ipynb\" target=\"_parent\"><img src=\"https://colab.research.google.com/assets/colab-badge.svg\" alt=\"Open In Colab\"/></a>"
      ]
    },
    {
      "cell_type": "markdown",
      "source": [
        "# **MAT 421 HW 1.1, 1.2, 1.3 - Parker Leavitt**"
      ],
      "metadata": {
        "id": "mR-TLv_Xkwdh"
      }
    },
    {
      "cell_type": "markdown",
      "source": [
        "# 1.1 - Introduction"
      ],
      "metadata": {
        "id": "DVrEUQt9FQVR"
      }
    },
    {
      "cell_type": "markdown",
      "source": [
        "**Linear Algebra** is the study of linear combinations such as vector spaces, orthogonality, eigenvalues, matrix decomposition and further expanded to include linear regression and principal component analysis. Linear Algbra concepts are applyed in various fields such as machine learning and data science."
      ],
      "metadata": {
        "id": "HrUPlemCJfS3"
      }
    },
    {
      "cell_type": "markdown",
      "source": [
        "# 1.2 - Elements of Linear Algebra"
      ],
      "metadata": {
        "id": "larXYpzoNUw0"
      }
    },
    {
      "cell_type": "markdown",
      "source": [
        "## 1.2.1 - Linear Spaces"
      ],
      "metadata": {
        "id": "ZCTSm4iaNgi3"
      }
    },
    {
      "cell_type": "markdown",
      "source": [
        "**Linear subspace** of V is a subset U ⊆ V\n",
        "that is closed under vector addition and scalar multiplication."
      ],
      "metadata": {
        "id": "sEv4gkKmQUyE"
      }
    },
    {
      "cell_type": "markdown",
      "source": [
        "### 1.2.1.1 - Linear Combinations\n",
        "\n",
        "**Linear Combinations** in linear algebra is a new vector constructed from a\n",
        "subset by multiplying each vector by a constant and adding the results. A\n",
        "linear subspace is a result of linear combination."
      ],
      "metadata": {
        "id": "dPzW3Wk_PFAN"
      }
    },
    {
      "cell_type": "markdown",
      "source": [
        "### 1.2.1.2 - Linear Independence and Dimension"
      ],
      "metadata": {
        "id": "oFzucxSqP2Sc"
      }
    },
    {
      "cell_type": "markdown",
      "source": [
        "A list of vectors has **Linear Independence** if none of them can be written as a linear combination of the\n",
        "others.  "
      ],
      "metadata": {
        "id": "iISOJavRQsqS"
      }
    },
    {
      "cell_type": "markdown",
      "source": [
        "**Dimension Therom** states that, given a linearly\n",
        "dependent list of vectors, one of the vectors is in the span of the previous\n",
        "ones and we can remove it without changing the span."
      ],
      "metadata": {
        "id": "0vdGYcZgToR0"
      }
    },
    {
      "cell_type": "markdown",
      "source": [
        "## 1.2.2 - Orthogonality"
      ],
      "metadata": {
        "id": "UBrssqndUFMS"
      }
    },
    {
      "cell_type": "markdown",
      "source": [
        "### 1.2.2.1 - Orthonormal Bases"
      ],
      "metadata": {
        "id": "wiOVD66IU7g8"
      }
    },
    {
      "cell_type": "markdown",
      "source": [
        "A list of vectors is **orthonormal** if the u*i*’s are\n",
        "pairwise orthogonal and each has norm 1."
      ],
      "metadata": {
        "id": "GLjwP3LhVB8i"
      }
    },
    {
      "cell_type": "markdown",
      "source": [
        "### 1.2.2.2 - Best Approximation Theorem"
      ],
      "metadata": {
        "id": "hdrPj7HMdY3E"
      }
    },
    {
      "cell_type": "markdown",
      "source": [
        "We have a linear subspace U ⊆ V and a vector v /∈ U.\n",
        "We want to find the vector v∗ in U.\n",
        "\n",
        "![image.png](data:image/png;base64,iVBORw0KGgoAAAANSUhEUgAAAJcAAAA3CAYAAAABg9iXAAAAAXNSR0IArs4c6QAAAARnQU1BAACxjwv8YQUAAAAJcEhZcwAAFiUAABYlAUlSJPAAAABfaVRYdFNuaXBNZXRhZGF0YQAAAAAAeyJjbGlwUG9pbnRzIjpbeyJ4IjowLCJ5IjowfSx7IngiOjE1MSwieSI6MH0seyJ4IjoxNTEsInkiOjU1fSx7IngiOjAsInkiOjU1fV193rX/AAAAD5JJREFUeF7tnHtQlFeahx+66TvdDd1Nd9M00IDc78hNjRozuZpMZmqSmkwy2Z3d2tmt2pr5f7a2JrX7z25qdipVma2tjNldR3NRoxM1cWMSL8G7KMhNEUTuV7m2IJemaRr2IJ1oNI4SaUOS76k61fBy+Djfd37nPe97zvkImRMgIREEZIFPCYklRxKXRNCQxCURNCRxSQQNSVwSQUMSl0TQkMQlETQkcUkEDUlcEkFDEpdE0JDEJRE0JHFJBA1JXBJBQzoVcZ0xOiouMTRnJDYvmUiFsHRUcGlwFmNcPsnzhq/NJD01tfR4dETnZBOtDZiXKb7BJqo7RpizpFLs0s8baKrpZGTOTGqRC2G5ZyTPdZ0xuo9XUHukiWFvwNJ1nHM1pVwemlowLJa5WXwzosx6cTdVUFd7nt6JgG0mUGcZ4nM3cby2gmMd1xYM026aj1VTfqyDgOWeWd7imnHTdHwnb/7Pe3xa148nYF56ZvBdnWBKCMnvD1hmRhj3DDE1EzAsEt9wEyd3bmXztlLq+rzIvW5ay/ayY+t7HL94Rfiz5cmcf4qrnnGuTgfue9bPlHuScbeXxT6J5S2uyV7Of7qXza/v4nBFByNfr5+/EWQqA7ZYB2aGuFxTRVl5PZ2DM+gdTuwRauSBet9llre4lFYyH32RX//6ZTbmOtGHBOzfAuR6C65kJwbhfTs7h2jvaqf5ygjKmGTinRGoAvW+yyxvcamtpKx/mpd++SPW5zgI+xZFiL6By1ScrqTFbyOrMJuiomxSokLpPHuK07U9y3ZaXErk/yoIfL10zEww0t1C5Yn91PR6UKpVuOtK2f3WO7y75yj1o3LMNisG/wANZz5l9zvvsH3vcS6Nq7HYozBpblKRf4KeC5Vc7p9AFh6JXiRu/qkx+tqqObm/lKaBOUIV49Qf3MnWre9z+HwfGK1EmvUo71mMo7SXXmTQH4FrXTpWtbC0H+HigI8I13rSbWoRk7VRffhdtmzdyo7d+9m//zQXmsZQmE3oZcM0nf2Yd7Z9wKHaYTRWO1a9HL/cgDPFRfhIOxMhMeQ8+gRpkVoMJjPmcA2hgb8eFHwjdNSWsn3LFv60/X3R3v2cqrnEqDwCs0HBSGs5n7y7nQ8OVtKntBBlN6ERc7VvsIETbW6RLWbyaKJRBPSDXDrZyjAWsh5NRFjumSD4Ah9jQ1doOLGbd958jbeFcPZ8fJLqLi86EWuMXypl239s5u0t29l9tIy6QRkRNiMznSf48+tb+bC0CfesuMzcFIONp9j5x3/jlX95g71HWkWQKezTE1wT6fLpfdt487U3+e/NO9hzvIZuvwaNv4tTe9/g91s/5EzbYnObv4xMoSUsZJLmsk/YsmkTm7YcoqJ9kpAwFQqFBoPcQ5t7hE6fCqNWicIYTUpWDlkJMcSmFZCek0mcM5bM/BzSXabgT4syBVqtDE9bBQe2iPZu2sKBsy2Mh+hRKRRohPi9XVdxt06jCtctYiDeO0G4ZAihmnBMBhnXRt009k0Roo8io3Adz/z87/m7F0uwek/x0dFzdM/YyC75AT986R/4258WYx4/xqnycjpGhHfyTDIxOUBbVRmnj5ynY9C3cHlZKEq9Ea3wNiPuK1z1C28XnULxoz/ib/7xr9noUtB2+CSn668wvvAbS4I8zEbSQ0/x1Np8kg3CMHtVTNtzqLWiLWGRhBtNFBTn8/RT60i26W4K2LU4clZTuDobhy5gehDIdUSuWMWTT66nMG3e38wyIiTtV2kJ1+kwG42Y81aSs/FpNqRGERaEDCMI4gpFY7TgcEZjNOiYFZ0Sn5pGmktMg0bRQWnJOJ0zeFRhxMankyaCW12YmbiEROz2KXoG2ukf9hASqsESn01+tgtR5QahKnThVhx2AwbhNSwxaeRmpeOyRBCZkEyWIwZTyxCDHcNLKq555OErKFhdQk5apHDQnZy/VE1N67DotlE6e2exKB3kxelveagyVGF69IYwVEF42n+RUCPx+SWsysvAJmaU7romqqtaGBQzw7XuK/iFA3CsjEd8BIWg365cLhPlRpqnVIhpJFSJSqNArQoVfi5gV85PL0o8Xi9T09PIlBrChIgirWGIgXYHhBebv54iMOzk4vtQOYqxaWbGfYtel7k7WqJziinJzCRGdFZnRQO15aKzBlpomxQxljkRxzJbgdc6MiksySM7VoyHnioaa8po6hukrX2cWa+ZZGfwGvygx9K3HpU1g6JVaSKWEp11pYq6mlOUlbXjD5WJach2f7HUeBfVn/2ZP/7n67y+iPJfuw5S0TEWuMgtqCJJW1lMZm6iaHAftRdrOHn6DB0+GXP2VOwieQkWkrgWS6iJpPwi0jMThZD6qKn6kK3H2vCqnaRG3meYLkIBY6QDV0ICCYspDivh2jvlnnLCE3MozMwhWTRvoK6WfW8d4fK4ipj0+xwMd0ES16KRYUgsoCg373pgP9hQR/fQFFp7PBH3u7agtpCQvYannnmWZxdRNj6US1KkJnCR25EZ4skrzGdlqgjshxtp6OpjTGUj0RTcfQJJXF+D+c5aWVK4ENjLnKxISiMp3rB8H6ZMT2xOEUXXA3s5jsRE0lMTMd5vg71juAcHGBz96s39oD0P/5wo8+tVt3DdHvjZ/OetzNtmv7CLkHxOVBTFL3KyG5cL2G+9vt/PtCiBRYsgIgL79HxyU1PIzMijqDiPOP3yHqdaRyq5QlxpGSlkF5ZQkHCfg2FmiIbS7fzhn37Da1v2U9t/+1MPwhPxMdbXTNXZCtq7B+jtaKemtpGeqyO4P7d3DXCluYmK8lpaB9wM9TZTKeytnaJ+cwtVlfW0it9rrz9DeUUbXf29NDdVcLa6hf6r1xhqu0CVsHcKe1NTOWcvtNM/NCRS7XOcbWujm8tcvnyK2oZ+JuYXXoOAypZOQcEGfvqkmG7SHUJuyxyVldSVBTzywlPkF2Zz30liiJ/xYdGfZacov9THNf/tG79B2P6ZY9bnwy/TEZNWSEnJavJTXTitBlQy8TO5DmdqIauKV5GfFo/TFo5aTP3z9ujr9tWsTHMRbQ1DKZeh0MeRUriKktX5pMXHYI+Y3zaZQ6ZxkCRGYPHqPFLn7UY18rkQ0ekJZK8roqRYBLCxMVgMakQidxfuvv1zG6FaEXxHsyI9lbjoyOtbJ8ubUDQGC9Er0klxxWDVfnWD73n7R6ZEa7QSmyH6eM0achIt3JpTSCdRr9PJ0d/upN6bwPrfPkeGeIKdR19h54VJ4h9+heezwgP1vvtM1O/h30ubmU35Ga8+Fgtj9ex99TCX51J58dXHEZZ7JgjTooTEAg9UXH4xXfpmZm6Lw782cz5Gey9x9sQRjpdVUVN+lAOfHKXi8lAQT61K3CsPUFwjNB/5jNPHLtAfOKd+P/iudVB5/DhlF/uZURoIDwvDEK7G23ZIiO0QjYM3Dqp7R4foEYF+7+A1vEumbIm7EXxx+UdoOrqHvXv3c6zsHPXVR/lo5y72HaqhdyJQZ5FM9tVx6mwtLWMq7A493sYxhrvlmJLjscpFJtpST497IU2c7K7kw82/4/f/+yFVXXfaytYSkZlATI4NXeBFH50pk8S4fOz6YK5hLz9CdTayY1xkmwP3rdBhy44jPsuy6NX84BwW/BJ+vOPXmHAP0NpwkebROcLsLhLjY4myRXw5w5gapLX6DJ+dPEdDawdXOjtpa22jrdONT6FGb9AQ4m6krPISXb4oCgpzSJQ1s/uTGrpE9pjnHOHE3nKaRPBZtL4Qp7+FI9s2semDekLS1/H42myiDcovNstvoEBrsWBNsGMyalCICgpNJBaRedpNBjTzhu8JMlUYVosDl9VEmFp0jsgKddZIHPFWTGEi8w7Uuxfu03P5meqt4ZNNv+M3v/oV//yHrXx2sY8Rdxe1+//Ee+8fYP5gqC48jMmrw3T3DTHQ303fxBR+MY2pb3odcKKnitKDBznZ6kFljsJus2K2mBeK2ShuVCEaO0lndQN9bjWpeZmssM3QUX2S9ulh9PEKBs4cpKxnDlNaHivCR7l4cBfb9jWizP8Jv3jhMTKidHe4YQUGux273YQ2UEFhsIk22DB9bvieINOYsNkd2I0BPyXTYrLZcdiNi/Zc9/nkQoTSNfgGz3F07xu8/Wk5rW4fCjHSRwcn8UxMo1DP4hn3oba6SElKJi89GZfNgNzrYfrz+GeinfKTNVzoVeHKLeHh9WtZU1xAbl7uQslOItqiRzHVT8OwDI0pjtQoJSONxzlQO4xxRR6Z8kb2fVzNmCOXh9fF4a3fz449JxmK2cBLf/VjVsU/gNOfEl/iPsUlQ2lOpOQHj5Cf7sLT7uZK/zWm5zzIYvOFdyki0aTB6Jifph5i7SohmKKH2bBuNTkuC7rAOt5I2xnqhj2YM0ooTLJcPyf/lcjnhFueYqyvlarPDnH0bD+GrGfZmGOk5cABzl1LYsMzG0nynmf3W/uomcvi2V/8jMey7Oi+Xw5oWbAEMZfwJAYVo811VItYyRuVQqxWeDSNCkviCmyaUOG9VKhUKtR6E6aoKDGnR6BXK1k4QzhFe9kuzjZ04w2NwD/UsRBn3Vx6xglRajEa9YQp1RgjxJSq02KISibLpaL38DZ2nhoj/ZmXeSE/hIqdm3i3Egqf+yUvP5Eh2vD9iZmWE0synmXGRIrXFJDhmqTifCn7atxCUGacxpu3GJQYo6LF3G3+wmMt4GfGO4ZeqxQxj13EV/Mx1i0lQo9GNR9K6rAnpZGRn0NW3kryMyyM133ErkONKHIe44cPmek/9h67y9zEPPITnn8ykyjJZX1jLNGT14k0voT85GRmKitpGZgiNCL6Ht8zVGF1JDFrTUTjiL8RZ91cMuNF1qa5pbE++i8cYNeOI/Sb1/Lj59cRMXCCXf9XwWTsI7zwTAlO7QzjU9LC1jfFkg1rdVQWRQUrSIm24HRGY7Pd+fDalwnFlL6GaN8kvTXV3Om07m34Brh0+AjVvREUPr6B5KkKdmzeQpk3hrUbstD21lN7vhuPtHP6jbF0c4bKStaqVTzx8+dYXZCO/V61JQg1pfLIqlxiRqv5eN/HlLW48dzt7YoQH9NCkEZzKH7PCP1t3QxdNWDQ6kUsN8WEPBxblBn9A3/lRuJzlvRUxOxoB60jctThUbfEW/fAzAR9ly/S0HmVaaVIAEL8X/zHmflXpGJWJBDnvHk5YYLeC2doueJhxhCPM0Imskg3bs80OqeTaEcM0abvxz/8WK4suyM3M575o7N9DI2M4/1cXLIwIqPt2ObXugImieWPdJ5LImhIAYlE0JDEJRE0JHFJBA1JXBJBQxKXRNCQxCURJOD/AbfY1HEjOnOcAAAAAElFTkSuQmCC)"
      ],
      "metadata": {
        "id": "pLxGBJ5HdihE"
      }
    },
    {
      "cell_type": "markdown",
      "source": [
        "## 1.2.3 - Gram-Schmidt Process"
      ],
      "metadata": {
        "id": "OIr2xDcde2P2"
      }
    },
    {
      "cell_type": "markdown",
      "source": [
        "The **Gram-Schmidt Process** is the process used to find an othanormal basis. For example, you have a set of linearly independent values (a1, . . . , am). We intend to find an orthonormal basis of span(a1, . . . , am). The process takes advantage of the properties of the orthogonal projection derived above. In essence we add the vectors ai one by one, but\n",
        "only after taking out their orthogonal projection on the previously included\n",
        "vectors. The outcome spans the same subspace and orthogonal decomposition\n",
        "ensures orthogonality."
      ],
      "metadata": {
        "id": "k8to45dofImP"
      }
    },
    {
      "cell_type": "markdown",
      "source": [
        "## 1.2.4 - Eigenvalues and Eigenvectors"
      ],
      "metadata": {
        "id": "t8wIchUtk9Os"
      }
    },
    {
      "cell_type": "markdown",
      "source": [
        "**Eigenvalues** are a special set of scalars associated with a linear system of equations that are sometimes also known as characteristic roots, characteristic values, proper values, or latent roots.\n",
        "\n",
        "**Eigenvectors** are a special set of vectors associated with a linear system of equations (i.e., a matrix equation) that are sometimes also known as characteristic vectors, proper vectors, or latent vectors.\n",
        "\n",
        "**Example:** Find the Eigenvalues and Eigenvectors for the matrix: [1,3,5],[2,4,6],[3,5,7]"
      ],
      "metadata": {
        "id": "q7qrTuKrljtW"
      }
    },
    {
      "cell_type": "code",
      "source": [
        "import numpy as np\n",
        "\n",
        "matrix = np.array([[1, 3, 5],\n",
        "                   [2, 4, 6],\n",
        "                   [3, 5, 7]])\n",
        "\n",
        "eigenvalues, eigenvectors = np.linalg.eig(matrix)\n",
        "\n",
        "print(\"Eigenvalues:\")\n",
        "print(eigenvalues)\n",
        "print(\"\\nEigenvectors:\")\n",
        "print(eigenvectors)\n"
      ],
      "metadata": {
        "colab": {
          "base_uri": "https://localhost:8080/"
        },
        "id": "DNmQUvQN8Hc7",
        "outputId": "abd37fdc-e3ef-40b8-abf1-726b33fa822f"
      },
      "execution_count": null,
      "outputs": [
        {
          "output_type": "stream",
          "name": "stdout",
          "text": [
            "Eigenvalues:\n",
            "[ 1.29282032e+01 -9.28203230e-01 -1.97379352e-16]\n",
            "\n",
            "Eigenvectors:\n",
            "[[-0.43562549 -0.86580851  0.40824829]\n",
            " [-0.56725822 -0.20458368 -0.81649658]\n",
            " [-0.69889094  0.45664116  0.40824829]]\n"
          ]
        }
      ]
    },
    {
      "cell_type": "markdown",
      "source": [
        "# 1.3 - Linear Regression"
      ],
      "metadata": {
        "id": "mE6IACWs_sUQ"
      }
    },
    {
      "cell_type": "markdown",
      "source": [
        "Often used in practical applications because of its simplicity, **Linear regression** depends linearly on their unknown parameters and\n",
        "therefore are easier to fit than models which are non-linearly related to their\n",
        "parameters. As a result, the statistical properties of the resulting estimators\n",
        "are easier to determine."
      ],
      "metadata": {
        "id": "e-LIZG6oLaQj"
      }
    },
    {
      "cell_type": "markdown",
      "source": [
        "## 1.3.1 QR Decomposition"
      ],
      "metadata": {
        "id": "7EMNrkVGMPQ8"
      }
    },
    {
      "cell_type": "markdown",
      "source": [
        "**QR Decomposition** is very useful for solving linear least squares problems. QR decomposition is a popular way of solving problems to get eigenvalues and eigenvectors.\n",
        "\n",
        "**Example:** Use the QR Decomposition method to decompose the matrix: [2,4],[1,3]."
      ],
      "metadata": {
        "id": "u5xrIL_nVBZp"
      }
    },
    {
      "cell_type": "code",
      "source": [
        "import numpy as np\n",
        "\n",
        "matrix = np.array([[2, 4],\n",
        "                   [1, 3]])\n",
        "\n",
        "Q, R = np.linalg.qr(matrix)\n",
        "\n",
        "print(\"Matrix Q (orthogonal matrix):\")\n",
        "print(Q)\n",
        "print(\"\\nMatrix R (upper triangular matrix):\")\n",
        "print(R)\n"
      ],
      "metadata": {
        "id": "5cMe87fSfDWf",
        "colab": {
          "base_uri": "https://localhost:8080/"
        },
        "outputId": "2b6f48a8-92de-4fca-c796-38e95d25de68"
      },
      "execution_count": 2,
      "outputs": [
        {
          "output_type": "stream",
          "name": "stdout",
          "text": [
            "Matrix Q (orthogonal matrix):\n",
            "[[-0.89442719 -0.4472136 ]\n",
            " [-0.4472136   0.89442719]]\n",
            "\n",
            "Matrix R (upper triangular matrix):\n",
            "[[-2.23606798 -4.91934955]\n",
            " [ 0.          0.89442719]]\n"
          ]
        }
      ]
    }
  ]
}