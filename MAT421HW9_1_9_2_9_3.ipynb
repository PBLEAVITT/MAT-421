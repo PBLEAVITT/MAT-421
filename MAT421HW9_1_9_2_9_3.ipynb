{
  "nbformat": 4,
  "nbformat_minor": 0,
  "metadata": {
    "colab": {
      "provenance": [],
      "authorship_tag": "ABX9TyPicIcIsb6AaMSzGZcNIqKO",
      "include_colab_link": true
    },
    "kernelspec": {
      "name": "python3",
      "display_name": "Python 3"
    },
    "language_info": {
      "name": "python"
    }
  },
  "cells": [
    {
      "cell_type": "markdown",
      "metadata": {
        "id": "view-in-github",
        "colab_type": "text"
      },
      "source": [
        "<a href=\"https://colab.research.google.com/github/PBLEAVITT/MAT-421/blob/main/MAT421HW9_1_9_2_9_3.ipynb\" target=\"_parent\"><img src=\"https://colab.research.google.com/assets/colab-badge.svg\" alt=\"Open In Colab\"/></a>"
      ]
    },
    {
      "cell_type": "markdown",
      "source": [
        "# MAT421 HW 9.1,9.2,and 9.3 - Parker Leavitt\n",
        "\n",
        "# 9.1 Base-N and Binary Numbers\n",
        "\n",
        "Convert 36(base10) and 18(base10) to Binary. Add and Multiply the resulting numbers in Binary.\n",
        "\n",
        "Convert 36(base10) to a Binary number"
      ],
      "metadata": {
        "id": "bjespbDGm40B"
      }
    },
    {
      "cell_type": "code",
      "source": [
        "decimal_input1= 36;\n",
        "Binary_output1=bin(decimal_input1).replace(\"0b\",\"\");\n",
        "print(Binary_output1)"
      ],
      "metadata": {
        "colab": {
          "base_uri": "https://localhost:8080/"
        },
        "id": "dsdjVucEnQE5",
        "outputId": "455f46d1-d960-4a19-ec7f-5597a6bc57e1"
      },
      "execution_count": 71,
      "outputs": [
        {
          "output_type": "stream",
          "name": "stdout",
          "text": [
            "100100\n"
          ]
        }
      ]
    },
    {
      "cell_type": "markdown",
      "source": [
        "Convert 18(base10) to a Binary number"
      ],
      "metadata": {
        "id": "H9386uconU_O"
      }
    },
    {
      "cell_type": "code",
      "source": [
        "decimal_input2= 18;\n",
        "Binary_output2=bin(decimal_input2).replace(\"0b\",\"\");\n",
        "print(Binary_output2)"
      ],
      "metadata": {
        "colab": {
          "base_uri": "https://localhost:8080/"
        },
        "id": "qewwJehMnbIL",
        "outputId": "0a00ddd7-d5a8-476b-a4c4-03a35cf3ed9b"
      },
      "execution_count": 72,
      "outputs": [
        {
          "output_type": "stream",
          "name": "stdout",
          "text": [
            "10010\n"
          ]
        }
      ]
    },
    {
      "cell_type": "markdown",
      "source": [
        "Adding and Multiplying the resulting numbers in Binary"
      ],
      "metadata": {
        "id": "r2NiC-vynnlA"
      }
    },
    {
      "cell_type": "code",
      "source": [
        "a=int(Binary_output1);\n",
        "b=int(Binary_output2);\n",
        "print(a+b);\n",
        "print(a*b);"
      ],
      "metadata": {
        "colab": {
          "base_uri": "https://localhost:8080/"
        },
        "id": "3rMagdD9nsuJ",
        "outputId": "fde1c7b9-9335-425a-b530-f02a390e504c"
      },
      "execution_count": 73,
      "outputs": [
        {
          "output_type": "stream",
          "name": "stdout",
          "text": [
            "110110\n",
            "1002001000\n"
          ]
        }
      ]
    },
    {
      "cell_type": "markdown",
      "source": [
        "Verrify Answers"
      ],
      "metadata": {
        "id": "it604xeFn3R9"
      }
    },
    {
      "cell_type": "code",
      "source": [
        "c=int(Binary_output1, 2);\n",
        "d=int(Binary_output2, 2);\n",
        "print(c,d);"
      ],
      "metadata": {
        "colab": {
          "base_uri": "https://localhost:8080/"
        },
        "id": "Zezz41Jjn5Vi",
        "outputId": "be941904-4e71-47fe-9e7b-8266a6abd501"
      },
      "execution_count": 74,
      "outputs": [
        {
          "output_type": "stream",
          "name": "stdout",
          "text": [
            "36 18\n"
          ]
        }
      ]
    },
    {
      "cell_type": "markdown",
      "source": [
        "# 9.2 Floating Point Numbers\n",
        "\n",
        "Float information"
      ],
      "metadata": {
        "id": "9I1Sow30oKae"
      }
    },
    {
      "cell_type": "code",
      "source": [
        "import sys\n",
        "sys.float_info"
      ],
      "metadata": {
        "colab": {
          "base_uri": "https://localhost:8080/"
        },
        "id": "RPn1gvOQoSWT",
        "outputId": "7880e900-8469-4b40-b75a-81d35a85a376"
      },
      "execution_count": 75,
      "outputs": [
        {
          "output_type": "execute_result",
          "data": {
            "text/plain": [
              "sys.float_info(max=1.7976931348623157e+308, max_exp=1024, max_10_exp=308, min=2.2250738585072014e-308, min_exp=-1021, min_10_exp=-307, dig=15, mant_dig=53, epsilon=2.220446049250313e-16, radix=2, rounds=1)"
            ]
          },
          "metadata": {},
          "execution_count": 75
        }
      ]
    },
    {
      "cell_type": "markdown",
      "source": [
        "Use spacing function to detirmine the gap at le7"
      ],
      "metadata": {
        "id": "D_3Ph5dDoUoe"
      }
    },
    {
      "cell_type": "code",
      "source": [
        "import numpy as np\n",
        "np.spacing(1e7)"
      ],
      "metadata": {
        "colab": {
          "base_uri": "https://localhost:8080/"
        },
        "id": "pLBmSGDHoYzG",
        "outputId": "e5f3c080-8204-4568-f4d9-aafee5436535"
      },
      "execution_count": 76,
      "outputs": [
        {
          "output_type": "execute_result",
          "data": {
            "text/plain": [
              "1.862645149230957e-09"
            ]
          },
          "metadata": {},
          "execution_count": 76
        }
      ]
    },
    {
      "cell_type": "markdown",
      "source": [
        "Verify that adding a number to 1e7 that is less than half the gap at 1e7 results in the same number"
      ],
      "metadata": {
        "id": "hSie2Sv1ocNK"
      }
    },
    {
      "cell_type": "code",
      "source": [
        "1e7 == (1e7 + np.spacing(1e7)/3)"
      ],
      "metadata": {
        "colab": {
          "base_uri": "https://localhost:8080/"
        },
        "id": "eGoLSCgkoflc",
        "outputId": "e5f2d58b-a481-45c2-8950-5343fc18bd76"
      },
      "execution_count": 80,
      "outputs": [
        {
          "output_type": "execute_result",
          "data": {
            "text/plain": [
              "True"
            ]
          },
          "metadata": {},
          "execution_count": 80
        }
      ]
    },
    {
      "cell_type": "markdown",
      "source": [
        "**Overflow**- Occurs when numbers that are larger than the largest floating point number are capable of being represented. Python demonstrates this case as inf.\n",
        "\n",
        "**Example of overflow**"
      ],
      "metadata": {
        "id": "2mlZXyGQokQd"
      }
    },
    {
      "cell_type": "code",
      "source": [
        "sys.float_info.max+sys.float_info.max"
      ],
      "metadata": {
        "colab": {
          "base_uri": "https://localhost:8080/"
        },
        "id": "VjkG3z-2o0rv",
        "outputId": "4f15e844-96c8-4135-a9e9-e683b2eaeeb5"
      },
      "execution_count": 81,
      "outputs": [
        {
          "output_type": "execute_result",
          "data": {
            "text/plain": [
              "inf"
            ]
          },
          "metadata": {},
          "execution_count": 81
        }
      ]
    },
    {
      "cell_type": "markdown",
      "source": [
        "**Underflow**- Occurs when numbers are smaller than the smallest subnormal number. Python demonstrates this case as 0.\n",
        "\n",
        "**Example of Underflow**"
      ],
      "metadata": {
        "id": "aIF4K5_0o4c_"
      }
    },
    {
      "cell_type": "code",
      "source": [
        "2**(-1075)"
      ],
      "metadata": {
        "colab": {
          "base_uri": "https://localhost:8080/"
        },
        "id": "zruY1z08pCbm",
        "outputId": "b651276a-e308-49bb-cb5c-2b40b95b6b26"
      },
      "execution_count": 82,
      "outputs": [
        {
          "output_type": "execute_result",
          "data": {
            "text/plain": [
              "0.0"
            ]
          },
          "metadata": {},
          "execution_count": 82
        }
      ]
    },
    {
      "cell_type": "markdown",
      "source": [
        "# **9.3 Round-off Errors**\n",
        "\n",
        "**Representation Error** - The most common for of Round-off error caused by the miss representation of a number."
      ],
      "metadata": {
        "id": "f_OQhwbmpH6t"
      }
    },
    {
      "cell_type": "code",
      "execution_count": 85,
      "metadata": {
        "colab": {
          "base_uri": "https://localhost:8080/"
        },
        "id": "3780Ht8fcyr7",
        "outputId": "6705790e-6d7d-4313-bcf1-119862e9ada1"
      },
      "outputs": [
        {
          "output_type": "execute_result",
          "data": {
            "text/plain": [
              "0.6666666666666666"
            ]
          },
          "metadata": {},
          "execution_count": 85
        }
      ],
      "source": [
        "2/3\n"
      ]
    },
    {
      "cell_type": "markdown",
      "source": [
        "**Floating-Point Arithmetic** - This error accures due to the floating-point not being able to be represented by an excat number which makes it an approximation. If we contiue to imput the same function this error will decrease less and less."
      ],
      "metadata": {
        "id": "s3mSwB4Jz5D_"
      }
    },
    {
      "cell_type": "code",
      "source": [
        "2.3-2.225==0.775"
      ],
      "metadata": {
        "colab": {
          "base_uri": "https://localhost:8080/"
        },
        "id": "ulcq-5Tz0Hgl",
        "outputId": "961781da-9ce7-478b-b8c5-fb198335f89e"
      },
      "execution_count": 86,
      "outputs": [
        {
          "output_type": "execute_result",
          "data": {
            "text/plain": [
              "False"
            ]
          },
          "metadata": {},
          "execution_count": 86
        }
      ]
    },
    {
      "cell_type": "code",
      "source": [
        "2.3-2.225"
      ],
      "metadata": {
        "colab": {
          "base_uri": "https://localhost:8080/"
        },
        "id": "hgKt5iOX0uht",
        "outputId": "606175f5-6391-44b5-b986-52b754eba4ca"
      },
      "execution_count": 89,
      "outputs": [
        {
          "output_type": "execute_result",
          "data": {
            "text/plain": [
              "0.07499999999999973"
            ]
          },
          "metadata": {},
          "execution_count": 89
        }
      ]
    },
    {
      "cell_type": "markdown",
      "source": [
        "**Another Example**"
      ],
      "metadata": {
        "id": "rnttHqW010vm"
      }
    },
    {
      "cell_type": "code",
      "source": [
        "0.6+0.7+0.8==2.1"
      ],
      "metadata": {
        "colab": {
          "base_uri": "https://localhost:8080/"
        },
        "id": "rtzIVt3-1RE1",
        "outputId": "0d743c65-b1b9-42e9-dfa9-ac576ed6dfe4"
      },
      "execution_count": 90,
      "outputs": [
        {
          "output_type": "execute_result",
          "data": {
            "text/plain": [
              "False"
            ]
          },
          "metadata": {},
          "execution_count": 90
        }
      ]
    },
    {
      "cell_type": "code",
      "source": [
        "round(0.6+0.7+0.8)==round(2.1)"
      ],
      "metadata": {
        "colab": {
          "base_uri": "https://localhost:8080/"
        },
        "id": "5Tk3jJC81t-W",
        "outputId": "506cd1e9-0c86-4712-e20d-d0b0b723c075"
      },
      "execution_count": 91,
      "outputs": [
        {
          "output_type": "execute_result",
          "data": {
            "text/plain": [
              "True"
            ]
          },
          "metadata": {},
          "execution_count": 91
        }
      ]
    },
    {
      "cell_type": "markdown",
      "source": [
        "**Accumulation of Round-off errors** - These kind of errors can be magnifiyed of accumulated based on the ammount of iterations. The more iterations the more error you will have.\n",
        "\n",
        "**1 iteration**"
      ],
      "metadata": {
        "id": "kBu6M3uF2KrD"
      }
    },
    {
      "cell_type": "code",
      "source": [
        "3+2/3-2/3"
      ],
      "metadata": {
        "colab": {
          "base_uri": "https://localhost:8080/"
        },
        "id": "oCtChFda2vP7",
        "outputId": "14ce5246-d016-4852-86b8-47978d81786e"
      },
      "execution_count": 92,
      "outputs": [
        {
          "output_type": "execute_result",
          "data": {
            "text/plain": [
              "3.0"
            ]
          },
          "metadata": {},
          "execution_count": 92
        }
      ]
    },
    {
      "cell_type": "markdown",
      "source": [
        "**1000, 10000, and 100000 iterations**"
      ],
      "metadata": {
        "id": "AH_AHv0C5Bwr"
      }
    },
    {
      "cell_type": "code",
      "source": [
        "def add_and_subtract(iterations):\n",
        "  result = 3\n",
        "  for i in range(iterations):\n",
        "    result += 2/3\n",
        "  for i in range(iterations):\n",
        "    result -= 2/3\n",
        "  return result\n",
        "\n",
        "print(add_and_subtract(1000));\n",
        "print(add_and_subtract(10000));\n",
        "print(add_and_subtract(100000));"
      ],
      "metadata": {
        "colab": {
          "base_uri": "https://localhost:8080/"
        },
        "id": "CVmNAqMr3T0m",
        "outputId": "bf2b9b12-8848-4c68-930c-bc4f1de4f4f3"
      },
      "execution_count": 112,
      "outputs": [
        {
          "output_type": "stream",
          "name": "stdout",
          "text": [
            "3.000000000000015\n",
            "3.0000000000002425\n",
            "3.0000000000038805\n"
          ]
        }
      ]
    }
  ]
}