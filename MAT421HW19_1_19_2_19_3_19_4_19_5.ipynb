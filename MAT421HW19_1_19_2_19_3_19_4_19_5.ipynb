{
  "nbformat": 4,
  "nbformat_minor": 0,
  "metadata": {
    "colab": {
      "provenance": [],
      "authorship_tag": "ABX9TyPKoQ7PKUJi17LWD1a+3haM",
      "include_colab_link": true
    },
    "kernelspec": {
      "name": "python3",
      "display_name": "Python 3"
    },
    "language_info": {
      "name": "python"
    }
  },
  "cells": [
    {
      "cell_type": "markdown",
      "metadata": {
        "id": "view-in-github",
        "colab_type": "text"
      },
      "source": [
        "<a href=\"https://colab.research.google.com/github/PBLEAVITT/MAT-421/blob/main/MAT421HW19_1_19_2_19_3_19_4_19_5.ipynb\" target=\"_parent\"><img src=\"https://colab.research.google.com/assets/colab-badge.svg\" alt=\"Open In Colab\"/></a>"
      ]
    },
    {
      "cell_type": "markdown",
      "source": [
        "# **MAT 421 HW 19.1 , 19.2 , 19.3 , 19.4 , 19.5 - Parker Leavitt**"
      ],
      "metadata": {
        "id": "JkEuW-cFIpAI"
      }
    },
    {
      "cell_type": "markdown",
      "source": [
        "# 19.1 - Root Finding Problem Statment"
      ],
      "metadata": {
        "id": "JW7hk64P4Jd9"
      }
    },
    {
      "cell_type": "markdown",
      "source": [
        "The **root** or **zero** of a function, f(x), is an xr such that f(xr)=0. For example f(x)=x^2-4, the roots are 2 and -2. Sometimes finding **analytic** ,or exact, roots of a function can be more difficult to find. For Example lets try to find the roots for f(x)=sin(x)-x near 2."
      ],
      "metadata": {
        "id": "-xqb1CcZ_M8B"
      }
    },
    {
      "cell_type": "code",
      "execution_count": 5,
      "metadata": {
        "colab": {
          "base_uri": "https://localhost:8080/"
        },
        "id": "PnwVpo9t3ZJF",
        "outputId": "82f8abcc-41c1-40d2-8440-db796068bda8"
      },
      "outputs": [
        {
          "output_type": "stream",
          "name": "stdout",
          "text": [
            "r = [2.07167136e-08]\n",
            "result= [0.]\n"
          ]
        }
      ],
      "source": [
        "import numpy as np\n",
        "from scipy import optimize\n",
        "\n",
        "f = lambda x: np.sin(x) - x\n",
        "r = optimize.fsolve(f, 2)\n",
        "print(\"r =\", r)\n",
        "\n",
        "# Verify the solution is a root\n",
        "result = f(r)\n",
        "print(\"result=\", result)"
      ]
    },
    {
      "cell_type": "markdown",
      "source": [
        "Lets see what happens when we try to find the roots for a function that has no roots."
      ],
      "metadata": {
        "id": "9i2nI-4yMzNc"
      }
    },
    {
      "cell_type": "code",
      "source": [
        "f = lambda x: 1/x\n",
        "\n",
        "r, infodict, ier, mesg = optimize.fsolve(f, 2, full_output=True)\n",
        "print(\"r =\", r)\n",
        "\n",
        "result = f(r)\n",
        "print(\"result=\", result)\n",
        "\n",
        "print(mesg)"
      ],
      "metadata": {
        "colab": {
          "base_uri": "https://localhost:8080/"
        },
        "id": "Sh7HcrpL_Tvq",
        "outputId": "951d6ad5-5617-4bcc-f13d-9ddc55a7dd94"
      },
      "execution_count": 7,
      "outputs": [
        {
          "output_type": "stream",
          "name": "stdout",
          "text": [
            "r = [3.52047363e+83]\n",
            "result= [2.84052688e-84]\n",
            "The number of calls to function has reached maxfev = 400.\n"
          ]
        }
      ]
    },
    {
      "cell_type": "markdown",
      "source": [
        "# 19.2 - Tolerance"
      ],
      "metadata": {
        "id": "JkUL0EmW4X9H"
      }
    },
    {
      "cell_type": "markdown",
      "source": [
        "**Tolerance** is the level of error that is acceptable for a given application. Tolerance is a concept often used in engineering when building things that have the possibilty of failing in a given compacity such as engines in cars and elavators in a building. Tolerence allows for engineers to know how much error they can have in calculations without compromising the saftey of a system. When a computer discovers a solution that has an error smaller than the tolerence is know as the **convergence**."
      ],
      "metadata": {
        "id": "xJvsLIJPg7Bx"
      }
    },
    {
      "cell_type": "markdown",
      "source": [
        "# 19.3 - Bisection Method"
      ],
      "metadata": {
        "id": "2Td6MAfP4e31"
      }
    },
    {
      "cell_type": "markdown",
      "source": [
        "The **Intermediate Value Therom** stats that if f(x) is a continuous function between a and b, and sign(f(a))≠sign(f(b)), then there must be a c\n",
        ", such that a<c<b and f(c)=0.\n",
        "\n",
        "\n",
        "The **Bisection Method** uses the Intermediate Value Therom iteravly to find roots.\n",
        "\n",
        "Example: The √3 can be computed as the root of the function f(x)=x^2−3. Starting at a=0 and b=3, use my_bisection to approximate the √3\n",
        "to a tolerance of |f(x)|<0.01 and |f(x)|<0.001."
      ],
      "metadata": {
        "id": "WlW76pzmGiVZ"
      }
    },
    {
      "cell_type": "code",
      "source": [
        "import numpy as np\n",
        "\n",
        "def my_bisection(f, a, b, tol):\n",
        "    # approximates a root, R, of f bounded\n",
        "    # by a and b to within tolerance\n",
        "    # | f(m) | < tol with m the midpoint\n",
        "    # between a and b Recursive implementation\n",
        "\n",
        "    # check if a and b bound a root\n",
        "    if np.sign(f(a)) == np.sign(f(b)):\n",
        "        raise Exception(\n",
        "         \"The scalars a and b do not bound a root\")\n",
        "\n",
        "    # get midpoint\n",
        "    m = (a + b)/2\n",
        "\n",
        "    if np.abs(f(m)) < tol:\n",
        "        # stopping condition, report m as root\n",
        "        return m\n",
        "    elif np.sign(f(a)) == np.sign(f(m)):\n",
        "        # case where m is an improvement on a.\n",
        "        # Make recursive call with a = m\n",
        "        return my_bisection(f, m, b, tol)\n",
        "    elif np.sign(f(b)) == np.sign(f(m)):\n",
        "        # case where m is an improvement on b.\n",
        "        # Make recursive call with b = m\n",
        "        return my_bisection(f, a, m, tol)\n",
        "\n",
        "f = lambda x: x**2 - 3\n",
        "\n",
        "r1 = my_bisection(f, 0, 3, 0.01)\n",
        "print(\"r1 =\", r1)\n",
        "r01 = my_bisection(f, 0, 3, 0.001)\n",
        "print(\"r01 =\", r01)\n",
        "\n",
        "print(\"f(r1) =\", f(r1))\n",
        "print(\"f(r01) =\", f(r01))"
      ],
      "metadata": {
        "colab": {
          "base_uri": "https://localhost:8080/"
        },
        "id": "7B1lycP9Mpex",
        "outputId": "85d0f52d-9539-4a4c-d468-f735185ae097"
      },
      "execution_count": 15,
      "outputs": [
        {
          "output_type": "stream",
          "name": "stdout",
          "text": [
            "r1 = 1.734375\n",
            "r01 = 1.732177734375\n",
            "f(r1) = 0.008056640625\n",
            "f(r01) = 0.00043970346450805664\n"
          ]
        }
      ]
    },
    {
      "cell_type": "markdown",
      "source": [
        "See what will happen if you use a=1 and b=4 for the above function.\n"
      ],
      "metadata": {
        "id": "TSXvYtZMcVND"
      }
    },
    {
      "cell_type": "code",
      "source": [
        "import numpy as np\n",
        "\n",
        "def my_bisection(f, a, b, tol):\n",
        "    # approximates a root, R, of f bounded\n",
        "    # by a and b to within tolerance\n",
        "    # | f(m) | < tol with m the midpoint\n",
        "    # between a and b Recursive implementation\n",
        "\n",
        "    # check if a and b bound a root\n",
        "    if np.sign(f(a)) == np.sign(f(b)):\n",
        "        raise Exception(\n",
        "         \"The scalars a and b do not bound a root\")\n",
        "\n",
        "    # get midpoint\n",
        "    m = (a + b)/2\n",
        "\n",
        "    if np.abs(f(m)) < tol:\n",
        "        # stopping condition, report m as root\n",
        "        return m\n",
        "    elif np.sign(f(a)) == np.sign(f(m)):\n",
        "        # case where m is an improvement on a.\n",
        "        # Make recursive call with a = m\n",
        "        return my_bisection(f, m, b, tol)\n",
        "    elif np.sign(f(b)) == np.sign(f(m)):\n",
        "        # case where m is an improvement on b.\n",
        "        # Make recursive call with b = m\n",
        "        return my_bisection(f, a, m, tol)\n",
        "\n",
        "f = lambda x: x**2 - 2\n",
        "\n",
        "r1 = my_bisection(f, 1, 4, 0.01)\n",
        "print(\"r1 =\", r1)\n",
        "r01 = my_bisection(f, 1, 4, 0.001)\n",
        "print(\"r01 =\", r01)\n",
        "\n",
        "print(\"f(r1) =\", f(r1))\n",
        "print(\"f(r01) =\", f(r01))"
      ],
      "metadata": {
        "colab": {
          "base_uri": "https://localhost:8080/"
        },
        "id": "gFUNMExucak0",
        "outputId": "efdedb9d-9649-4e17-e016-b4328586e960"
      },
      "execution_count": 14,
      "outputs": [
        {
          "output_type": "stream",
          "name": "stdout",
          "text": [
            "r1 = 1.416015625\n",
            "r01 = 1.41455078125\n",
            "f(r1) = 0.005100250244140625\n",
            "f(r01) = 0.0009539127349853516\n"
          ]
        }
      ]
    },
    {
      "cell_type": "markdown",
      "source": [
        "# 19.4 - Newton-Raphson Method"
      ],
      "metadata": {
        "id": "cpsMXIio7x3K"
      }
    },
    {
      "cell_type": "markdown",
      "source": [
        "The **Newton-Raphson Method** of finding roots iterates Newton steps from x0\n",
        " until the error is less than the tolerance. **Newton Steps** computes an improved guess, xi, using a previous guess xi−1, and is given by the equation:\n",
        "\n",
        " ![image.png](data:image/png;base64,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)\n",
        "\n",
        " Example: Again, the √3 is the root of the function f(x)=x2−3. Using x0=3.6\n",
        " as a starting point, use the previous equation to estimate √3. Compare this approximation with the value computed by Python’s sqrt function.\n",
        "\n",
        "![image.png](data:image/png;base64,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)"
      ],
      "metadata": {
        "id": "MdDnf_nMdL5d"
      }
    },
    {
      "cell_type": "code",
      "source": [
        "import numpy as np\n",
        "\n",
        "f = lambda x: x**2 - 3\n",
        "f_prime = lambda x: 2*x\n",
        "newton_raphson = 1.7 - (f(1.7))/(f_prime(1.7))\n",
        "\n",
        "print(\"newton_raphson =\", newton_raphson)\n",
        "print(\"sqrt(3) =\", np.sqrt(3))\n",
        "\n",
        "def my_newton(f, df, x0, tol):\n",
        "    # output is an estimation of the root of f\n",
        "    # using the Newton Raphson method\n",
        "    # recursive implementation\n",
        "    if abs(f(x0)) < tol:\n",
        "        return x0\n",
        "    else:\n",
        "        return my_newton(f, df, x0 - f(x0)/df(x0), tol)\n",
        "\n",
        "estimate = my_newton(f, f_prime, 1.7, 1e-6)\n",
        "print(\"estimate =\", estimate)\n",
        "print(\"sqrt(3) =\", np.sqrt(3))"
      ],
      "metadata": {
        "colab": {
          "base_uri": "https://localhost:8080/"
        },
        "id": "MN-7LXgHgSHi",
        "outputId": "1d955cdc-1bde-4895-b522-caa7bafeceb0"
      },
      "execution_count": 22,
      "outputs": [
        {
          "output_type": "stream",
          "name": "stdout",
          "text": [
            "newton_raphson = 1.7323529411764707\n",
            "sqrt(3) = 1.7320508075688772\n",
            "estimate = 1.7320508339159093\n",
            "sqrt(3) = 1.7320508075688772\n"
          ]
        }
      ]
    },
    {
      "cell_type": "markdown",
      "source": [
        "# Root Finding in Python - 19.5"
      ],
      "metadata": {
        "id": "eZzzP-KnkeS4"
      }
    },
    {
      "cell_type": "markdown",
      "source": [
        "Python already has existing root-finding function built in. In this example we will use the f_solve function to find the roots.\n",
        "\n",
        "Example: Compute the root of the function f(x)=x3−50x2−x+50 using f_solve."
      ],
      "metadata": {
        "id": "aZmjWJcPkmpS"
      }
    },
    {
      "cell_type": "code",
      "source": [
        "from scipy.optimize import fsolve\n",
        "\n",
        "f = lambda x: x**3-50*x**2-x+50\n",
        "\n",
        "fsolve(f, [2, 80])"
      ],
      "metadata": {
        "colab": {
          "base_uri": "https://localhost:8080/"
        },
        "id": "W7OC9kxnlXhq",
        "outputId": "8e91ecbb-bd99-409c-cf2e-2f1248eff26e"
      },
      "execution_count": 27,
      "outputs": [
        {
          "output_type": "execute_result",
          "data": {
            "text/plain": [
              "array([ 1., 50.])"
            ]
          },
          "metadata": {},
          "execution_count": 27
        }
      ]
    }
  ]
}